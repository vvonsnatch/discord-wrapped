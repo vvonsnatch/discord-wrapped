{
 "cells": [
  {
   "cell_type": "code",
   "execution_count": 1,
   "id": "8c61627d",
   "metadata": {},
   "outputs": [
    {
     "name": "stdout",
     "output_type": "stream",
     "text": [
      "Requirement already satisfied: requests in /Users/veronicasuprun/opt/anaconda3/lib/python3.9/site-packages (2.28.1)\r\n",
      "Requirement already satisfied: idna<4,>=2.5 in /Users/veronicasuprun/opt/anaconda3/lib/python3.9/site-packages (from requests) (3.3)\r\n",
      "Requirement already satisfied: charset-normalizer<3,>=2 in /Users/veronicasuprun/opt/anaconda3/lib/python3.9/site-packages (from requests) (2.0.4)\r\n",
      "Requirement already satisfied: certifi>=2017.4.17 in /Users/veronicasuprun/opt/anaconda3/lib/python3.9/site-packages (from requests) (2022.9.24)\r\n",
      "Requirement already satisfied: urllib3<1.27,>=1.21.1 in /Users/veronicasuprun/opt/anaconda3/lib/python3.9/site-packages (from requests) (1.26.11)\r\n"
     ]
    }
   ],
   "source": [
    "!pip install requests"
   ]
  },
  {
   "cell_type": "code",
   "execution_count": 5,
   "id": "012713b5",
   "metadata": {},
   "outputs": [
    {
     "name": "stdout",
     "output_type": "stream",
     "text": [
      "<Response [200]>\n"
     ]
    }
   ],
   "source": [
    "import requests\n",
    "\n",
    "AUTHORIZE_URL = \"https://discord.com/oauth2/authorize\"\n",
    "TOKEN_URL = \"https://discord.com/api/oauth2/token\"\n",
    "\n",
    "response = requests.get(AUTHORIZE_URL)\n",
    "print(response)"
   ]
  }
 ],
 "metadata": {
  "kernelspec": {
   "display_name": "Python 3 (ipykernel)",
   "language": "python",
   "name": "python3"
  },
  "language_info": {
   "codemirror_mode": {
    "name": "ipython",
    "version": 3
   },
   "file_extension": ".py",
   "mimetype": "text/x-python",
   "name": "python",
   "nbconvert_exporter": "python",
   "pygments_lexer": "ipython3",
   "version": "3.9.13"
  }
 },
 "nbformat": 4,
 "nbformat_minor": 5
}
